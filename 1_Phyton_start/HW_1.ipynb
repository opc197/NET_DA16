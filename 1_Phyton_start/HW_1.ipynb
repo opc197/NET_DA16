{
 "cells": [
  {
   "cell_type": "markdown",
   "metadata": {},
   "source": [
    "### Задание №1"
   ]
  },
  {
   "cell_type": "code",
   "execution_count": 10,
   "metadata": {},
   "outputs": [
    {
     "name": "stdout",
     "output_type": "stream",
     "text": [
      "Введите фразу №1: Насколько проще было бы писать программы, если бы не заказчики\n",
      "Введите фразу №2: Насколько проще было бы писать программы, если бы не заказчики\n",
      "Обе фразы имеют равную длину\n"
     ]
    }
   ],
   "source": [
    "phrase_1 = str(input('Введите фразу №1: '))\n",
    "phrase_2 = str(input('Введите фразу №2: '))\n",
    "\n",
    "if len(phrase_1) > len(phrase_2): \n",
    "    print('Фраза №1 длиннее фразы №2')\n",
    "elif len(phrase_1) == len(phrase_2):\n",
    "    print('Обе фразы имеют равную длину')\n",
    "else:\n",
    "    print('Фраза №2 длиннее фразы №1')"
   ]
  },
  {
   "cell_type": "markdown",
   "metadata": {},
   "source": [
    "### Задание №2\n"
   ]
  },
  {
   "cell_type": "code",
   "execution_count": 14,
   "metadata": {},
   "outputs": [
    {
     "name": "stdout",
     "output_type": "stream",
     "text": [
      "Введите год: 2017\n",
      "Обычный год\n"
     ]
    }
   ],
   "source": [
    "year = int(input('Введите год: '))\n",
    "\n",
    "# год можно считать високосным, если он делится на 4 нацело, используем оператор целочисленного деления\n",
    "if year%4!=0:\n",
    "    print('Обычный год')\n",
    "else:\n",
    "    print('Високосный год')"
   ]
  },
  {
   "cell_type": "markdown",
   "metadata": {},
   "source": [
    "### Задание №3"
   ]
  },
  {
   "cell_type": "code",
   "execution_count": 32,
   "metadata": {},
   "outputs": [
    {
     "name": "stdout",
     "output_type": "stream",
     "text": [
      "Введите дату рождения (число месяца): 10\n",
      "Введите месяц рождения (в текстовом виде в именительном падеже): ноябрь\n",
      "Ваш знак зодиака - Скорпион\n"
     ]
    }
   ],
   "source": [
    "date = int(input('Введите дату рождения (число месяца): '))\n",
    "month = str(input('Введите месяц рождения (в текстовом виде в именительном падеже): '))\n",
    "if (month.lower()=='март' and date>=21 and date<=31) or (month.lower()=='апрель' and date>=1 and date<=19):\n",
    "    print('Ваш знак зодиака - Овен')\n",
    "elif (month.lower()=='апрель' and date>=20 and date<=30) or (month.lower()=='май' and date>=1 and date<=20):\n",
    "    print('Ваш знак зодиака - Телец')\n",
    "elif (month.lower()=='май' and date>=21 and date<=31) or (month.lower()=='июнь' and date>=1 and date<=21):\n",
    "    print('Ваш знак зодиака - Близнецы')\n",
    "elif (month.lower()=='июнь' and date>=22 and date<=30) or (month.lower()=='июль' and date>=1 and date<=22):\n",
    "    print('Ваш знак зодиака - Рак')\n",
    "elif (month.lower()=='июль' and date>=23 and date<=31) or (month.lower()=='август' and date>=1 and date<=22):\n",
    "    print('Ваш знак зодиака - Лев')\n",
    "elif (month.lower()=='август' and date>=23 and date<=31) or (month.lower()=='сентябрь' and date>=1 and date<=22):\n",
    "    print('Ваш знак зодиака - Дева')\n",
    "elif (month.lower()=='сентябрь' and date>=23 and date<=30) or (month.lower()=='октябрь' and date>=1 and date<=23):\n",
    "    print('Ваш знак зодиака - Весы')\n",
    "elif (month.lower()=='октябрь' and date>=24 and date<=31) or (month.lower()=='ноябрь' and date>=1 and date<=22):\n",
    "    print('Ваш знак зодиака - Скорпион')\n",
    "elif (month.lower()=='ноябрь' and date>=23 and date<=30) or (month.lower()=='декабрь' and date>=1 and date<=21):\n",
    "    print('Ваш знак зодиака - Стрелец')\n",
    "elif (month.lower()=='декабрь' and date>=22 and date<=31) or (month.lower()=='январь' and date>=1 and date<=20):\n",
    "    print('Ваш знак зодиака - Козерог')\n",
    "elif (month.lower()=='январь' and date>=21 and date<=31) or (month.lower()=='февраль' and date>=1 and date<=18):\n",
    "    print('Ваш знак зодиака - Водолей')\n",
    "elif (month.lower()=='февраль' and date>=19 and date<=29) or (month.lower()=='март' and date>=1 and date<=20):\n",
    "    print('Ваш знак зодиака - Рыбы')\n",
    "else:\n",
    "    print('Введены некорректные данные')"
   ]
  },
  {
   "cell_type": "markdown",
   "metadata": {},
   "source": [
    "### Задание №4"
   ]
  },
  {
   "cell_type": "code",
   "execution_count": 37,
   "metadata": {},
   "outputs": [
    {
     "name": "stdout",
     "output_type": "stream",
     "text": [
      "Введите ширину товара в см: 10\n",
      "Введите длину товара в см: 10\n",
      "Введите высоту товара в см: 10\n",
      "Коробка №1\n"
     ]
    }
   ],
   "source": [
    "width = int(input('Введите ширину товара в см: '))\n",
    "length = int(input('Введите длину товара в см: '))\n",
    "height = int(input('Введите высоту товара в см: '))\n",
    "if width<15 and length<15 and height<15:\n",
    "    print('Коробка №1')\n",
    "elif (width>15 and width<50) or (length>15 and length<50) or (height>15 and height<50):\n",
    "    print('Коробка №2')\n",
    "elif length>200:\n",
    "    print('Упаковка для лыж')\n",
    "else:\n",
    "    print('Стандартная коробка №3')"
   ]
  },
  {
   "cell_type": "markdown",
   "metadata": {},
   "source": [
    "### Задание №5"
   ]
  },
  {
   "cell_type": "code",
   "execution_count": 57,
   "metadata": {},
   "outputs": [
    {
     "name": "stdout",
     "output_type": "stream",
     "text": [
      "Введите шестизначный номер билета: 156390\n",
      "Вам выпал счастливый билет! :-)\n"
     ]
    }
   ],
   "source": [
    "x = int(input('Введите шестизначный номер билета: '))\n",
    "a = x//100000\n",
    "b = (x//10000)%10\n",
    "c = (x//1000)%10\n",
    "d = (x//100)%10\n",
    "e = (x//10)%10\n",
    "f = x%10\n",
    "if (a+b+c)==(d+e+f):\n",
    "    print('Вам выпал счастливый билет! :-)')\n",
    "else:\n",
    "    print('Вам выпал несчастливый билет :-(')"
   ]
  },
  {
   "cell_type": "markdown",
   "metadata": {},
   "source": [
    "### Задание №6"
   ]
  },
  {
   "cell_type": "code",
   "execution_count": 72,
   "metadata": {},
   "outputs": [
    {
     "name": "stdout",
     "output_type": "stream",
     "text": [
      "Введите тип фигуры: треугольник\n",
      "Введите длину стороны А: 4\n",
      "Введите длину стороны B: 5\n",
      "Введите длину стороны C: 6\n",
      "Площадь треугольника: 9.921567416492215\n"
     ]
    }
   ],
   "source": [
    "shape = str(input('Введите тип фигуры: '))\n",
    "if shape.lower()=='круг':\n",
    "    R = int(input('Введите радиус круга R: '))\n",
    "    S = 3.14*(R**2)\n",
    "    print (f\"Площадь круга: {S}\")\n",
    "elif shape.lower()=='треугольник':\n",
    "    A = int(input('Введите длину стороны А: '))\n",
    "    B = int(input('Введите длину стороны B: '))\n",
    "    C = int(input('Введите длину стороны C: '))\n",
    "# площадь треугольника по трем сторонам - формула Герноа (через полупериметр)\n",
    "    S = (((A+B+C)/2)*((A+B+C)/2-A)*((A+B+C)/2-B)*((A+B+C)/2-C))**(1/2)\n",
    "    print (f\"Площадь треугольника: {S}\")\n",
    "elif shape.lower()=='прямоугольник':\n",
    "    A = int(input('Введите длину стороны А: '))\n",
    "    B = int(input('Введите длину стороны B: '))\n",
    "    S = A*B\n",
    "    print (f\"Площадь прямоугольника: {S}\")\n",
    "else:\n",
    "    print ('Вычисление площади для выбранной Вами фигуры не поддерживается программой')"
   ]
  },
  {
   "cell_type": "code",
   "execution_count": null,
   "metadata": {},
   "outputs": [],
   "source": []
  }
 ],
 "metadata": {
  "kernelspec": {
   "display_name": "Python 3",
   "language": "python",
   "name": "python3"
  },
  "language_info": {
   "codemirror_mode": {
    "name": "ipython",
    "version": 3
   },
   "file_extension": ".py",
   "mimetype": "text/x-python",
   "name": "python",
   "nbconvert_exporter": "python",
   "pygments_lexer": "ipython3",
   "version": "3.8.3"
  }
 },
 "nbformat": 4,
 "nbformat_minor": 4
}
